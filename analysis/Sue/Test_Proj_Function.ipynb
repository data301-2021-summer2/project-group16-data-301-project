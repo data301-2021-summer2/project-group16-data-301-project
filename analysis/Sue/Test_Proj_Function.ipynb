{
 "cells": [
  {
   "cell_type": "code",
   "execution_count": 1,
   "id": "957c23ae",
   "metadata": {},
   "outputs": [],
   "source": [
    "from scripts import project_functions # relative import"
   ]
  },
  {
   "cell_type": "code",
   "execution_count": 2,
   "id": "2836c068",
   "metadata": {},
   "outputs": [],
   "source": [
    "df=project_functions.load_process('../../data/raw/2016.csv')"
   ]
  },
  {
   "cell_type": "code",
   "execution_count": 5,
   "id": "394afd00",
   "metadata": {},
   "outputs": [
    {
     "data": {
      "text/plain": [
       "<bound method DataFrame.reset_index of     Country_Sorted                           Region  Happiness Rank  \\\n",
       "153    Afghanistan                    Southern Asia             154   \n",
       "108        Albania       Central and Eastern Europe             109   \n",
       "37         Algeria  Middle East and Northern Africa              38   \n",
       "140         Angola               Sub-Saharan Africa             141   \n",
       "25       Argentina      Latin America and Caribbean              26   \n",
       "..             ...                              ...             ...   \n",
       "43       Venezuela      Latin America and Caribbean              44   \n",
       "95         Vietnam                Southeastern Asia              96   \n",
       "146          Yemen  Middle East and Northern Africa             147   \n",
       "105         Zambia               Sub-Saharan Africa             106   \n",
       "130       Zimbabwe               Sub-Saharan Africa             131   \n",
       "\n",
       "     Happiness Score  Lower Confidence Interval  Upper Confidence Interval  \\\n",
       "153            3.360                      3.288                      3.432   \n",
       "108            4.655                      4.546                      4.764   \n",
       "37             6.355                      6.227                      6.483   \n",
       "140            3.866                      3.753                      3.979   \n",
       "25             6.650                      6.560                      6.740   \n",
       "..               ...                        ...                        ...   \n",
       "43             6.084                      5.973                      6.195   \n",
       "95             5.061                      4.991                      5.131   \n",
       "146            3.724                      3.621                      3.827   \n",
       "105            4.795                      4.645                      4.945   \n",
       "130            4.193                      4.101                      4.285   \n",
       "\n",
       "     Economy (GDP per Capita)  Health (Life Expectancy)  \\\n",
       "153                   0.38227                   0.17344   \n",
       "108                   0.95530                   0.73007   \n",
       "37                    1.05266                   0.61804   \n",
       "140                   0.84731                   0.04991   \n",
       "25                    1.15137                   0.69711   \n",
       "..                        ...                       ...   \n",
       "43                    1.13367                   0.61904   \n",
       "95                    0.74037                   0.66157   \n",
       "146                   0.57939                   0.31048   \n",
       "105                   0.61202                   0.23573   \n",
       "130                   0.35041                   0.15950   \n",
       "\n",
       "     Trust (Government Corruption)  Generosity  Dystopia Residual  \n",
       "153                        0.07112     0.31268            2.14558  \n",
       "108                        0.05301     0.16840            1.92816  \n",
       "37                         0.16157     0.07044            3.40904  \n",
       "140                        0.08434     0.12071            2.09459  \n",
       "25                         0.07296     0.10989            3.12985  \n",
       "..                             ...         ...                ...  \n",
       "43                         0.08304     0.04250            2.97468  \n",
       "95                         0.11556     0.25075            1.94180  \n",
       "146                        0.05892     0.09821            1.97295  \n",
       "105                        0.11479     0.17866            2.58991  \n",
       "130                        0.08582     0.18503            2.44270  \n",
       "\n",
       "[157 rows x 11 columns]>"
      ]
     },
     "execution_count": 5,
     "metadata": {},
     "output_type": "execute_result"
    }
   ],
   "source": [
    "df"
   ]
  },
  {
   "cell_type": "code",
   "execution_count": 11,
   "id": "17a9319e",
   "metadata": {},
   "outputs": [],
   "source": [
    "H16RawData=pd.read_csv('../../data/raw/2016.csv')"
   ]
  },
  {
   "cell_type": "code",
   "execution_count": 13,
   "id": "178fb52e",
   "metadata": {},
   "outputs": [
    {
     "data": {
      "text/html": [
       "<div>\n",
       "<style scoped>\n",
       "    .dataframe tbody tr th:only-of-type {\n",
       "        vertical-align: middle;\n",
       "    }\n",
       "\n",
       "    .dataframe tbody tr th {\n",
       "        vertical-align: top;\n",
       "    }\n",
       "\n",
       "    .dataframe thead th {\n",
       "        text-align: right;\n",
       "    }\n",
       "</style>\n",
       "<table border=\"1\" class=\"dataframe\">\n",
       "  <thead>\n",
       "    <tr style=\"text-align: right;\">\n",
       "      <th></th>\n",
       "      <th>Happiness Rank</th>\n",
       "    </tr>\n",
       "    <tr>\n",
       "      <th>Region</th>\n",
       "      <th></th>\n",
       "    </tr>\n",
       "  </thead>\n",
       "  <tbody>\n",
       "    <tr>\n",
       "      <th>Australia and New Zealand</th>\n",
       "      <td>9</td>\n",
       "    </tr>\n",
       "    <tr>\n",
       "      <th>North America</th>\n",
       "      <td>13</td>\n",
       "    </tr>\n",
       "    <tr>\n",
       "      <th>Western Europe</th>\n",
       "      <td>99</td>\n",
       "    </tr>\n",
       "    <tr>\n",
       "      <th>Eastern Asia</th>\n",
       "      <td>101</td>\n",
       "    </tr>\n",
       "    <tr>\n",
       "      <th>Central and Eastern Europe</th>\n",
       "      <td>129</td>\n",
       "    </tr>\n",
       "    <tr>\n",
       "      <th>Latin America and Caribbean</th>\n",
       "      <td>136</td>\n",
       "    </tr>\n",
       "    <tr>\n",
       "      <th>Southeastern Asia</th>\n",
       "      <td>140</td>\n",
       "    </tr>\n",
       "    <tr>\n",
       "      <th>Southern Asia</th>\n",
       "      <td>154</td>\n",
       "    </tr>\n",
       "    <tr>\n",
       "      <th>Middle East and Northern Africa</th>\n",
       "      <td>156</td>\n",
       "    </tr>\n",
       "    <tr>\n",
       "      <th>Sub-Saharan Africa</th>\n",
       "      <td>157</td>\n",
       "    </tr>\n",
       "  </tbody>\n",
       "</table>\n",
       "</div>"
      ],
      "text/plain": [
       "                                 Happiness Rank\n",
       "Region                                         \n",
       "Australia and New Zealand                     9\n",
       "North America                                13\n",
       "Western Europe                               99\n",
       "Eastern Asia                                101\n",
       "Central and Eastern Europe                  129\n",
       "Latin America and Caribbean                 136\n",
       "Southeastern Asia                           140\n",
       "Southern Asia                               154\n",
       "Middle East and Northern Africa             156\n",
       "Sub-Saharan Africa                          157"
      ]
     },
     "execution_count": 13,
     "metadata": {},
     "output_type": "execute_result"
    }
   ],
   "source": [
    "df_clean=project_functions.process_df(H16RawData)\n",
    "df_clean"
   ]
  },
  {
   "cell_type": "code",
   "execution_count": null,
   "id": "00764db6",
   "metadata": {},
   "outputs": [],
   "source": []
  }
 ],
 "metadata": {
  "kernelspec": {
   "display_name": "Python 3 (ipykernel)",
   "language": "python",
   "name": "python3"
  },
  "language_info": {
   "codemirror_mode": {
    "name": "ipython",
    "version": 3
   },
   "file_extension": ".py",
   "mimetype": "text/x-python",
   "name": "python",
   "nbconvert_exporter": "python",
   "pygments_lexer": "ipython3",
   "version": "3.9.1"
  }
 },
 "nbformat": 4,
 "nbformat_minor": 5
}
