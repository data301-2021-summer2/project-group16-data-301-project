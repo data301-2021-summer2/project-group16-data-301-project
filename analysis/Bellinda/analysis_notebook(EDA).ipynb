{
 "cells": [
  {
   "cell_type": "markdown",
   "id": "a394fbdc",
   "metadata": {},
   "source": [
    "## Exploratory Data Analysis (EDA)"
   ]
  },
  {
   "cell_type": "markdown",
   "id": "dacacd58",
   "metadata": {},
   "source": [
    "### Describe your dataset\n",
    "\n",
    "Consider the following questions to guide you in your exploration:\n",
    "\n",
    "- Who: Which company/agency/organization provided this data?\n",
    "\n",
    "This data if from http://serebii.net/ (was scraped)\n",
    "\n",
    "- What: What is in your data?\n",
    "\n",
    "1. **Content of the data:**\n",
    "1. **country:** The English name of the Country \n",
    "1. **period:** The Year the Data was collected for\n",
    "1. **h_index:** The entry number the Happiness Index\n",
    "1. **alco:** Alcohol total per capita (15+) consumption\n",
    "1. **homi:** Estimated Rate of homicide per 100 000 population\n",
    "1. **road:** Estimated number of road traffic deaths\n",
    "1. **suic:** Crude suicide rates (per 100 000 population)\n",
    "\n",
    "\n",
    "- When: When was your data collected (for example, for which years)?\n",
    "\n",
    "This data was last updated to include 2019 (from 2015-2019)\n",
    "\n",
    "- Why: What is the purpose of your dataset? Is it for transparency/accountability, public interest, fun, learning, etc...\n",
    "\n",
    "The Happiness index is used as a factor to determine how the 'happiness' of a population in a country. It has been used to determine the effectiveness of policy making and is useful for guaging the population's reaction to different events and circumstances.\n",
    "\n",
    "The indicator data is from the WHO and is useful for knowing the overall health of populations across the world. It is useful for determining what areas the world should be focusing on to improve overall health.\n",
    "\n",
    "- How: How was your data collected? Was it a human collecting the data? Historical records digitized? Server logs?\n",
    "\n",
    "The Gallup World Poll interviews people directly and works with partnering organizations to collect data. The WHO has a Global Health Observatory data repository that mainly derives data from population-based sources (household surveys, civil registration systems of vital events) and institution-based sources (administrative and operational activities of institutions)."
   ]
  },
  {
   "cell_type": "code",
   "execution_count": 1,
   "id": "a6803989",
   "metadata": {},
   "outputs": [
    {
     "data": {
      "text/html": [
       "<div>\n",
       "<style scoped>\n",
       "    .dataframe tbody tr th:only-of-type {\n",
       "        vertical-align: middle;\n",
       "    }\n",
       "\n",
       "    .dataframe tbody tr th {\n",
       "        vertical-align: top;\n",
       "    }\n",
       "\n",
       "    .dataframe thead th {\n",
       "        text-align: right;\n",
       "    }\n",
       "</style>\n",
       "<table border=\"1\" class=\"dataframe\">\n",
       "  <thead>\n",
       "    <tr style=\"text-align: right;\">\n",
       "      <th></th>\n",
       "      <th>count</th>\n",
       "      <th>mean</th>\n",
       "      <th>std</th>\n",
       "      <th>min</th>\n",
       "      <th>25%</th>\n",
       "      <th>50%</th>\n",
       "      <th>75%</th>\n",
       "      <th>max</th>\n",
       "    </tr>\n",
       "  </thead>\n",
       "  <tbody>\n",
       "    <tr>\n",
       "      <th>period</th>\n",
       "      <td>5562.0</td>\n",
       "      <td>2016.997843</td>\n",
       "      <td>1.415483</td>\n",
       "      <td>2015.000</td>\n",
       "      <td>2016.000</td>\n",
       "      <td>2017.0000</td>\n",
       "      <td>2018.0000</td>\n",
       "      <td>2019.000</td>\n",
       "    </tr>\n",
       "    <tr>\n",
       "      <th>h_index</th>\n",
       "      <td>5562.0</td>\n",
       "      <td>5.448548</td>\n",
       "      <td>1.129708</td>\n",
       "      <td>2.839</td>\n",
       "      <td>4.518</td>\n",
       "      <td>5.3875</td>\n",
       "      <td>6.3210</td>\n",
       "      <td>7.769</td>\n",
       "    </tr>\n",
       "    <tr>\n",
       "      <th>homi</th>\n",
       "      <td>5562.0</td>\n",
       "      <td>7.442530</td>\n",
       "      <td>13.655071</td>\n",
       "      <td>0.000</td>\n",
       "      <td>1.180</td>\n",
       "      <td>2.9300</td>\n",
       "      <td>7.8200</td>\n",
       "      <td>124.500</td>\n",
       "    </tr>\n",
       "    <tr>\n",
       "      <th>road</th>\n",
       "      <td>5562.0</td>\n",
       "      <td>8308.382540</td>\n",
       "      <td>29579.482764</td>\n",
       "      <td>6.950</td>\n",
       "      <td>535.000</td>\n",
       "      <td>2033.5000</td>\n",
       "      <td>5686.0000</td>\n",
       "      <td>258175.000</td>\n",
       "    </tr>\n",
       "    <tr>\n",
       "      <th>suic</th>\n",
       "      <td>5562.0</td>\n",
       "      <td>9.044962</td>\n",
       "      <td>7.634582</td>\n",
       "      <td>0.350</td>\n",
       "      <td>3.650</td>\n",
       "      <td>6.8600</td>\n",
       "      <td>11.7725</td>\n",
       "      <td>61.710</td>\n",
       "    </tr>\n",
       "  </tbody>\n",
       "</table>\n",
       "</div>"
      ],
      "text/plain": [
       "          count         mean           std       min       25%        50%  \\\n",
       "period   5562.0  2016.997843      1.415483  2015.000  2016.000  2017.0000   \n",
       "h_index  5562.0     5.448548      1.129708     2.839     4.518     5.3875   \n",
       "homi     5562.0     7.442530     13.655071     0.000     1.180     2.9300   \n",
       "road     5562.0  8308.382540  29579.482764     6.950   535.000  2033.5000   \n",
       "suic     5562.0     9.044962      7.634582     0.350     3.650     6.8600   \n",
       "\n",
       "               75%         max  \n",
       "period   2018.0000    2019.000  \n",
       "h_index     6.3210       7.769  \n",
       "homi        7.8200     124.500  \n",
       "road     5686.0000  258175.000  \n",
       "suic       11.7725      61.710  "
      ]
     },
     "execution_count": 1,
     "metadata": {},
     "output_type": "execute_result"
    }
   ],
   "source": [
    "from scripts import project_functions as pf # This is called a relative import\n",
    "from scripts import vari\n",
    "\n",
    "df=pf.pd.read_csv('../../data/processed/h_ind_merged_noalco.csv')\n",
    "df.head()\n",
    "df.describe( include=[pf.np.number]).T"
   ]
  },
  {
   "cell_type": "code",
   "execution_count": 2,
   "id": "b2d84155",
   "metadata": {},
   "outputs": [
    {
     "data": {
      "text/html": [
       "<div>\n",
       "<style scoped>\n",
       "    .dataframe tbody tr th:only-of-type {\n",
       "        vertical-align: middle;\n",
       "    }\n",
       "\n",
       "    .dataframe tbody tr th {\n",
       "        vertical-align: top;\n",
       "    }\n",
       "\n",
       "    .dataframe thead th {\n",
       "        text-align: right;\n",
       "    }\n",
       "</style>\n",
       "<table border=\"1\" class=\"dataframe\">\n",
       "  <thead>\n",
       "    <tr style=\"text-align: right;\">\n",
       "      <th></th>\n",
       "      <th>count</th>\n",
       "      <th>mean</th>\n",
       "      <th>std</th>\n",
       "      <th>min</th>\n",
       "      <th>25%</th>\n",
       "      <th>50%</th>\n",
       "      <th>75%</th>\n",
       "      <th>max</th>\n",
       "    </tr>\n",
       "  </thead>\n",
       "  <tbody>\n",
       "    <tr>\n",
       "      <th>period</th>\n",
       "      <td>719.0</td>\n",
       "      <td>2016.997218</td>\n",
       "      <td>2.001390</td>\n",
       "      <td>2015.000</td>\n",
       "      <td>2015.0000</td>\n",
       "      <td>2015.000</td>\n",
       "      <td>2019.0000</td>\n",
       "      <td>2019.000</td>\n",
       "    </tr>\n",
       "    <tr>\n",
       "      <th>h_index</th>\n",
       "      <td>719.0</td>\n",
       "      <td>5.485014</td>\n",
       "      <td>1.125695</td>\n",
       "      <td>2.839</td>\n",
       "      <td>4.5985</td>\n",
       "      <td>5.399</td>\n",
       "      <td>6.2775</td>\n",
       "      <td>7.769</td>\n",
       "    </tr>\n",
       "    <tr>\n",
       "      <th>alco</th>\n",
       "      <td>719.0</td>\n",
       "      <td>6.240334</td>\n",
       "      <td>5.424805</td>\n",
       "      <td>0.000</td>\n",
       "      <td>1.8000</td>\n",
       "      <td>4.800</td>\n",
       "      <td>9.7000</td>\n",
       "      <td>24.700</td>\n",
       "    </tr>\n",
       "  </tbody>\n",
       "</table>\n",
       "</div>"
      ],
      "text/plain": [
       "         count         mean       std       min        25%       50%  \\\n",
       "period   719.0  2016.997218  2.001390  2015.000  2015.0000  2015.000   \n",
       "h_index  719.0     5.485014  1.125695     2.839     4.5985     5.399   \n",
       "alco     719.0     6.240334  5.424805     0.000     1.8000     4.800   \n",
       "\n",
       "               75%       max  \n",
       "period   2019.0000  2019.000  \n",
       "h_index     6.2775     7.769  \n",
       "alco        9.7000    24.700  "
      ]
     },
     "execution_count": 2,
     "metadata": {},
     "output_type": "execute_result"
    }
   ],
   "source": [
    "df_al=pf.pd.read_csv('../../data/processed/h_alco.csv')\n",
    "df_al.head()\n",
    "df_al.describe( include=[pf.np.number]).T"
   ]
  },
  {
   "cell_type": "code",
   "execution_count": 3,
   "id": "17f8865a",
   "metadata": {},
   "outputs": [
    {
     "data": {
      "text/html": [
       "<div>\n",
       "<style scoped>\n",
       "    .dataframe tbody tr th:only-of-type {\n",
       "        vertical-align: middle;\n",
       "    }\n",
       "\n",
       "    .dataframe tbody tr th {\n",
       "        vertical-align: top;\n",
       "    }\n",
       "\n",
       "    .dataframe thead th {\n",
       "        text-align: right;\n",
       "    }\n",
       "</style>\n",
       "<table border=\"1\" class=\"dataframe\">\n",
       "  <thead>\n",
       "    <tr style=\"text-align: right;\">\n",
       "      <th></th>\n",
       "      <th>country</th>\n",
       "      <th>h_index</th>\n",
       "    </tr>\n",
       "  </thead>\n",
       "  <tbody>\n",
       "    <tr>\n",
       "      <th>0</th>\n",
       "      <td>Denmark</td>\n",
       "      <td>7.5460</td>\n",
       "    </tr>\n",
       "    <tr>\n",
       "      <th>1</th>\n",
       "      <td>Norway</td>\n",
       "      <td>7.5410</td>\n",
       "    </tr>\n",
       "    <tr>\n",
       "      <th>2</th>\n",
       "      <td>Finland</td>\n",
       "      <td>7.5378</td>\n",
       "    </tr>\n",
       "    <tr>\n",
       "      <th>3</th>\n",
       "      <td>Switzerland</td>\n",
       "      <td>7.5114</td>\n",
       "    </tr>\n",
       "    <tr>\n",
       "      <th>4</th>\n",
       "      <td>Iceland</td>\n",
       "      <td>7.5110</td>\n",
       "    </tr>\n",
       "    <tr>\n",
       "      <th>...</th>\n",
       "      <td>...</td>\n",
       "      <td>...</td>\n",
       "    </tr>\n",
       "    <tr>\n",
       "      <th>119</th>\n",
       "      <td>Yemen</td>\n",
       "      <td>3.6258</td>\n",
       "    </tr>\n",
       "    <tr>\n",
       "      <th>120</th>\n",
       "      <td>Togo</td>\n",
       "      <td>3.5442</td>\n",
       "    </tr>\n",
       "    <tr>\n",
       "      <th>121</th>\n",
       "      <td>Afghanistan</td>\n",
       "      <td>3.5128</td>\n",
       "    </tr>\n",
       "    <tr>\n",
       "      <th>122</th>\n",
       "      <td>Rwanda</td>\n",
       "      <td>3.4386</td>\n",
       "    </tr>\n",
       "    <tr>\n",
       "      <th>123</th>\n",
       "      <td>Burundi</td>\n",
       "      <td>3.0790</td>\n",
       "    </tr>\n",
       "  </tbody>\n",
       "</table>\n",
       "<p>124 rows × 2 columns</p>\n",
       "</div>"
      ],
      "text/plain": [
       "         country  h_index\n",
       "0        Denmark   7.5460\n",
       "1         Norway   7.5410\n",
       "2        Finland   7.5378\n",
       "3    Switzerland   7.5114\n",
       "4        Iceland   7.5110\n",
       "..           ...      ...\n",
       "119        Yemen   3.6258\n",
       "120         Togo   3.5442\n",
       "121  Afghanistan   3.5128\n",
       "122       Rwanda   3.4386\n",
       "123      Burundi   3.0790\n",
       "\n",
       "[124 rows x 2 columns]"
      ]
     },
     "execution_count": 3,
     "metadata": {},
     "output_type": "execute_result"
    }
   ],
   "source": [
    "h_rank=df.groupby('country').mean()[['h_index']]\n",
    "h_rank=h_rank.sort_values(\"h_index\", ascending=False)\n",
    "h_rank=h_rank.reset_index()\n",
    "h_rank"
   ]
  },
  {
   "cell_type": "code",
   "execution_count": 5,
   "id": "7df20098",
   "metadata": {},
   "outputs": [
    {
     "data": {
      "text/html": [
       "<div>\n",
       "<style scoped>\n",
       "    .dataframe tbody tr th:only-of-type {\n",
       "        vertical-align: middle;\n",
       "    }\n",
       "\n",
       "    .dataframe tbody tr th {\n",
       "        vertical-align: top;\n",
       "    }\n",
       "\n",
       "    .dataframe thead th {\n",
       "        text-align: right;\n",
       "    }\n",
       "</style>\n",
       "<table border=\"1\" class=\"dataframe\">\n",
       "  <thead>\n",
       "    <tr style=\"text-align: right;\">\n",
       "      <th></th>\n",
       "      <th>country</th>\n",
       "      <th>alco</th>\n",
       "    </tr>\n",
       "  </thead>\n",
       "  <tbody>\n",
       "    <tr>\n",
       "      <th>0</th>\n",
       "      <td>Lithuania</td>\n",
       "      <td>14.583333</td>\n",
       "    </tr>\n",
       "    <tr>\n",
       "      <th>1</th>\n",
       "      <td>Germany</td>\n",
       "      <td>13.000000</td>\n",
       "    </tr>\n",
       "    <tr>\n",
       "      <th>2</th>\n",
       "      <td>Estonia</td>\n",
       "      <td>12.983333</td>\n",
       "    </tr>\n",
       "    <tr>\n",
       "      <th>3</th>\n",
       "      <td>Uganda</td>\n",
       "      <td>12.950000</td>\n",
       "    </tr>\n",
       "    <tr>\n",
       "      <th>4</th>\n",
       "      <td>Ireland</td>\n",
       "      <td>12.733333</td>\n",
       "    </tr>\n",
       "    <tr>\n",
       "      <th>...</th>\n",
       "      <td>...</td>\n",
       "      <td>...</td>\n",
       "    </tr>\n",
       "    <tr>\n",
       "      <th>119</th>\n",
       "      <td>Mauritania</td>\n",
       "      <td>0.000000</td>\n",
       "    </tr>\n",
       "    <tr>\n",
       "      <th>120</th>\n",
       "      <td>Bangladesh</td>\n",
       "      <td>0.000000</td>\n",
       "    </tr>\n",
       "    <tr>\n",
       "      <th>121</th>\n",
       "      <td>Kuwait</td>\n",
       "      <td>0.000000</td>\n",
       "    </tr>\n",
       "    <tr>\n",
       "      <th>122</th>\n",
       "      <td>Saudi Arabia</td>\n",
       "      <td>0.000000</td>\n",
       "    </tr>\n",
       "    <tr>\n",
       "      <th>123</th>\n",
       "      <td>Afghanistan</td>\n",
       "      <td>0.000000</td>\n",
       "    </tr>\n",
       "  </tbody>\n",
       "</table>\n",
       "<p>124 rows × 2 columns</p>\n",
       "</div>"
      ],
      "text/plain": [
       "          country       alco\n",
       "0       Lithuania  14.583333\n",
       "1         Germany  13.000000\n",
       "2         Estonia  12.983333\n",
       "3          Uganda  12.950000\n",
       "4         Ireland  12.733333\n",
       "..            ...        ...\n",
       "119    Mauritania   0.000000\n",
       "120    Bangladesh   0.000000\n",
       "121        Kuwait   0.000000\n",
       "122  Saudi Arabia   0.000000\n",
       "123   Afghanistan   0.000000\n",
       "\n",
       "[124 rows x 2 columns]"
      ]
     },
     "execution_count": 5,
     "metadata": {},
     "output_type": "execute_result"
    }
   ],
   "source": [
    "alco_rank=df_al.groupby('country').mean()[['alco']]\n",
    "alco_rank=alco_rank.sort_values(\"alco\", ascending=False)\n",
    "alco_rank=alco_rank.reset_index()\n",
    "alco_rank"
   ]
  },
  {
   "cell_type": "code",
   "execution_count": 6,
   "id": "d6cb6829",
   "metadata": {},
   "outputs": [
    {
     "data": {
      "text/html": [
       "<div>\n",
       "<style scoped>\n",
       "    .dataframe tbody tr th:only-of-type {\n",
       "        vertical-align: middle;\n",
       "    }\n",
       "\n",
       "    .dataframe tbody tr th {\n",
       "        vertical-align: top;\n",
       "    }\n",
       "\n",
       "    .dataframe thead th {\n",
       "        text-align: right;\n",
       "    }\n",
       "</style>\n",
       "<table border=\"1\" class=\"dataframe\">\n",
       "  <thead>\n",
       "    <tr style=\"text-align: right;\">\n",
       "      <th></th>\n",
       "      <th>country</th>\n",
       "      <th>homi</th>\n",
       "    </tr>\n",
       "  </thead>\n",
       "  <tbody>\n",
       "    <tr>\n",
       "      <th>0</th>\n",
       "      <td>El Salvador</td>\n",
       "      <td>85.768000</td>\n",
       "    </tr>\n",
       "    <tr>\n",
       "      <th>1</th>\n",
       "      <td>Honduras</td>\n",
       "      <td>64.532667</td>\n",
       "    </tr>\n",
       "    <tr>\n",
       "      <th>2</th>\n",
       "      <td>Jamaica</td>\n",
       "      <td>51.252667</td>\n",
       "    </tr>\n",
       "    <tr>\n",
       "      <th>3</th>\n",
       "      <td>Colombia</td>\n",
       "      <td>41.845333</td>\n",
       "    </tr>\n",
       "    <tr>\n",
       "      <th>4</th>\n",
       "      <td>South Africa</td>\n",
       "      <td>37.853333</td>\n",
       "    </tr>\n",
       "    <tr>\n",
       "      <th>...</th>\n",
       "      <td>...</td>\n",
       "      <td>...</td>\n",
       "    </tr>\n",
       "    <tr>\n",
       "      <th>119</th>\n",
       "      <td>Switzerland</td>\n",
       "      <td>0.548000</td>\n",
       "    </tr>\n",
       "    <tr>\n",
       "      <th>120</th>\n",
       "      <td>Qatar</td>\n",
       "      <td>0.485333</td>\n",
       "    </tr>\n",
       "    <tr>\n",
       "      <th>121</th>\n",
       "      <td>Bahrain</td>\n",
       "      <td>0.346000</td>\n",
       "    </tr>\n",
       "    <tr>\n",
       "      <th>122</th>\n",
       "      <td>Singapore</td>\n",
       "      <td>0.326000</td>\n",
       "    </tr>\n",
       "    <tr>\n",
       "      <th>123</th>\n",
       "      <td>Japan</td>\n",
       "      <td>0.238000</td>\n",
       "    </tr>\n",
       "  </tbody>\n",
       "</table>\n",
       "<p>124 rows × 2 columns</p>\n",
       "</div>"
      ],
      "text/plain": [
       "          country       homi\n",
       "0     El Salvador  85.768000\n",
       "1        Honduras  64.532667\n",
       "2         Jamaica  51.252667\n",
       "3        Colombia  41.845333\n",
       "4    South Africa  37.853333\n",
       "..            ...        ...\n",
       "119   Switzerland   0.548000\n",
       "120         Qatar   0.485333\n",
       "121       Bahrain   0.346000\n",
       "122     Singapore   0.326000\n",
       "123         Japan   0.238000\n",
       "\n",
       "[124 rows x 2 columns]"
      ]
     },
     "execution_count": 6,
     "metadata": {},
     "output_type": "execute_result"
    }
   ],
   "source": [
    "homi_rank=df.groupby('country').mean()[['homi']]\n",
    "homi_rank=homi_rank.sort_values(\"homi\", ascending=False)\n",
    "homi_rank=homi_rank.reset_index()\n",
    "homi_rank"
   ]
  },
  {
   "cell_type": "code",
   "execution_count": 7,
   "id": "46645df0",
   "metadata": {},
   "outputs": [
    {
     "data": {
      "text/html": [
       "<div>\n",
       "<style scoped>\n",
       "    .dataframe tbody tr th:only-of-type {\n",
       "        vertical-align: middle;\n",
       "    }\n",
       "\n",
       "    .dataframe tbody tr th {\n",
       "        vertical-align: top;\n",
       "    }\n",
       "\n",
       "    .dataframe thead th {\n",
       "        text-align: right;\n",
       "    }\n",
       "</style>\n",
       "<table border=\"1\" class=\"dataframe\">\n",
       "  <thead>\n",
       "    <tr style=\"text-align: right;\">\n",
       "      <th></th>\n",
       "      <th>country</th>\n",
       "      <th>road</th>\n",
       "    </tr>\n",
       "  </thead>\n",
       "  <tbody>\n",
       "    <tr>\n",
       "      <th>0</th>\n",
       "      <td>China</td>\n",
       "      <td>254190.800000</td>\n",
       "    </tr>\n",
       "    <tr>\n",
       "      <th>1</th>\n",
       "      <td>India</td>\n",
       "      <td>206626.200000</td>\n",
       "    </tr>\n",
       "    <tr>\n",
       "      <th>2</th>\n",
       "      <td>Nigeria</td>\n",
       "      <td>40315.400000</td>\n",
       "    </tr>\n",
       "    <tr>\n",
       "      <th>3</th>\n",
       "      <td>Brazil</td>\n",
       "      <td>38416.800000</td>\n",
       "    </tr>\n",
       "    <tr>\n",
       "      <th>4</th>\n",
       "      <td>Indonesia</td>\n",
       "      <td>31302.200000</td>\n",
       "    </tr>\n",
       "    <tr>\n",
       "      <th>...</th>\n",
       "      <td>...</td>\n",
       "      <td>...</td>\n",
       "    </tr>\n",
       "    <tr>\n",
       "      <th>119</th>\n",
       "      <td>Cyprus</td>\n",
       "      <td>68.666000</td>\n",
       "    </tr>\n",
       "    <tr>\n",
       "      <th>120</th>\n",
       "      <td>Montenegro</td>\n",
       "      <td>56.400000</td>\n",
       "    </tr>\n",
       "    <tr>\n",
       "      <th>121</th>\n",
       "      <td>Luxembourg</td>\n",
       "      <td>33.296364</td>\n",
       "    </tr>\n",
       "    <tr>\n",
       "      <th>122</th>\n",
       "      <td>Malta</td>\n",
       "      <td>19.582000</td>\n",
       "    </tr>\n",
       "    <tr>\n",
       "      <th>123</th>\n",
       "      <td>Iceland</td>\n",
       "      <td>17.382000</td>\n",
       "    </tr>\n",
       "  </tbody>\n",
       "</table>\n",
       "<p>124 rows × 2 columns</p>\n",
       "</div>"
      ],
      "text/plain": [
       "        country           road\n",
       "0         China  254190.800000\n",
       "1         India  206626.200000\n",
       "2       Nigeria   40315.400000\n",
       "3        Brazil   38416.800000\n",
       "4     Indonesia   31302.200000\n",
       "..          ...            ...\n",
       "119      Cyprus      68.666000\n",
       "120  Montenegro      56.400000\n",
       "121  Luxembourg      33.296364\n",
       "122       Malta      19.582000\n",
       "123     Iceland      17.382000\n",
       "\n",
       "[124 rows x 2 columns]"
      ]
     },
     "execution_count": 7,
     "metadata": {},
     "output_type": "execute_result"
    }
   ],
   "source": [
    "road_rank=df.groupby('country').mean()[['road']]\n",
    "road_rank=road_rank.sort_values(\"road\", ascending=False)\n",
    "road_rank=road_rank.reset_index()\n",
    "road_rank"
   ]
  },
  {
   "cell_type": "code",
   "execution_count": 8,
   "id": "7dd410fc",
   "metadata": {},
   "outputs": [
    {
     "data": {
      "text/html": [
       "<div>\n",
       "<style scoped>\n",
       "    .dataframe tbody tr th:only-of-type {\n",
       "        vertical-align: middle;\n",
       "    }\n",
       "\n",
       "    .dataframe tbody tr th {\n",
       "        vertical-align: top;\n",
       "    }\n",
       "\n",
       "    .dataframe thead th {\n",
       "        text-align: right;\n",
       "    }\n",
       "</style>\n",
       "<table border=\"1\" class=\"dataframe\">\n",
       "  <thead>\n",
       "    <tr style=\"text-align: right;\">\n",
       "      <th></th>\n",
       "      <th>country</th>\n",
       "      <th>suic</th>\n",
       "    </tr>\n",
       "  </thead>\n",
       "  <tbody>\n",
       "    <tr>\n",
       "      <th>0</th>\n",
       "      <td>Lithuania</td>\n",
       "      <td>31.256667</td>\n",
       "    </tr>\n",
       "    <tr>\n",
       "      <th>1</th>\n",
       "      <td>South Africa</td>\n",
       "      <td>24.502000</td>\n",
       "    </tr>\n",
       "    <tr>\n",
       "      <th>2</th>\n",
       "      <td>Belarus</td>\n",
       "      <td>23.903333</td>\n",
       "    </tr>\n",
       "    <tr>\n",
       "      <th>3</th>\n",
       "      <td>Ukraine</td>\n",
       "      <td>22.222000</td>\n",
       "    </tr>\n",
       "    <tr>\n",
       "      <th>4</th>\n",
       "      <td>Latvia</td>\n",
       "      <td>21.287333</td>\n",
       "    </tr>\n",
       "    <tr>\n",
       "      <th>...</th>\n",
       "      <td>...</td>\n",
       "      <td>...</td>\n",
       "    </tr>\n",
       "    <tr>\n",
       "      <th>119</th>\n",
       "      <td>Indonesia</td>\n",
       "      <td>2.391333</td>\n",
       "    </tr>\n",
       "    <tr>\n",
       "      <th>120</th>\n",
       "      <td>Turkey</td>\n",
       "      <td>2.316000</td>\n",
       "    </tr>\n",
       "    <tr>\n",
       "      <th>121</th>\n",
       "      <td>Jamaica</td>\n",
       "      <td>2.274667</td>\n",
       "    </tr>\n",
       "    <tr>\n",
       "      <th>122</th>\n",
       "      <td>Philippines</td>\n",
       "      <td>2.204667</td>\n",
       "    </tr>\n",
       "    <tr>\n",
       "      <th>123</th>\n",
       "      <td>Jordan</td>\n",
       "      <td>1.525333</td>\n",
       "    </tr>\n",
       "  </tbody>\n",
       "</table>\n",
       "<p>124 rows × 2 columns</p>\n",
       "</div>"
      ],
      "text/plain": [
       "          country       suic\n",
       "0       Lithuania  31.256667\n",
       "1    South Africa  24.502000\n",
       "2         Belarus  23.903333\n",
       "3         Ukraine  22.222000\n",
       "4          Latvia  21.287333\n",
       "..            ...        ...\n",
       "119     Indonesia   2.391333\n",
       "120        Turkey   2.316000\n",
       "121       Jamaica   2.274667\n",
       "122   Philippines   2.204667\n",
       "123        Jordan   1.525333\n",
       "\n",
       "[124 rows x 2 columns]"
      ]
     },
     "execution_count": 8,
     "metadata": {},
     "output_type": "execute_result"
    }
   ],
   "source": [
    "suic_rank=df.groupby('country').mean()[['suic']]\n",
    "suic_rank=suic_rank.sort_values(\"suic\", ascending=False)\n",
    "suic_rank=suic_rank.reset_index()\n",
    "suic_rank"
   ]
  },
  {
   "cell_type": "markdown",
   "id": "3cb02e57",
   "metadata": {},
   "source": [
    "# Data Analysis and Visualizations\n"
   ]
  },
  {
   "cell_type": "markdown",
   "id": "e284713c",
   "metadata": {},
   "source": [
    "## Initial Comparision of Happiness with Four Health Indicators "
   ]
  },
  {
   "cell_type": "markdown",
   "id": "79fd1efa",
   "metadata": {},
   "source": [
    "![Alcohol vs H index](Hindex_alco.png)\n",
    "\n",
    "1. The relationship between happiness and alcohol consuption does not appear to be linear or strongly corrolated. It appears that countries with the highest amounts of alchol consumption have above average happiness. The most concentrated cluster appears to be around medium happiness where these countries have very low levels of alcohol consumption. It appears that on average, the countries with higher happiness indexes also have higher alcohol consumption.\n",
    "\n",
    "![Road Accidents vs H index](Hindex_road.png)\n",
    "\n",
    "2. This distribution is relatively flat and concentrated around low traffic accident rates and middle happiness. The correlation between the variables is again non-linear. As shown, the countries with the highest rates of road accident deaths are actually middle happiness (compared to overall mean of 5.4). However, the countries with the highest happiness have very low rates of traffic accidents.\n",
    "\n",
    "![Homicide Rates vs H index](Hindex_homi.png)\n",
    "\n",
    "3. This distribution is also relatively flat but contains the highest variation of homicide rates for the top 75 percentile happiness countries. The happinest countries appear to have low rates of homicide but a similar observation can be made about the least happy countries. On average, the countries with average happiness have low rates of homicide. \n",
    "\n",
    "![Suicide Rates vs H index](Hindex_suic.png)\n",
    "\n",
    "4. This distribution is has a bit of a fan effect. Although the distribution is not clearly linear or any pattern, it is interesting to note that happier countries have a pretty wide range of suicide rates. For those countries with a happiness score above the mean (5.4), the achieved the highest rates of suicide overall. Furthermore, the range of rates per country is higher for the top 90 percentile than the bottom 10 percentile."
   ]
  },
  {
   "cell_type": "code",
   "execution_count": null,
   "id": "373b5cf4",
   "metadata": {},
   "outputs": [],
   "source": [
    "from pandas_profiling import ProfileReport\n",
    "# Your solution for `pandas_profiling`\n",
    "\n",
    "prof = ProfileReport(df)\n",
    "prof"
   ]
  },
  {
   "cell_type": "markdown",
   "id": "0784c3f6-19bf-48f2-a2a3-0877a06414be",
   "metadata": {},
   "source": [
    "# Archived"
   ]
  },
  {
   "cell_type": "markdown",
   "id": "e015f9b5-c0a1-4d4b-89d5-60536f2fdf48",
   "metadata": {},
   "source": [
    "## function testing used for test 2"
   ]
  },
  {
   "cell_type": "code",
   "execution_count": 43,
   "id": "00b7c16f-6200-416f-86e2-80ed6592d253",
   "metadata": {},
   "outputs": [],
   "source": [
    "def over_budget(budget, food_bill, electricity_bill, internet_bill, rent):\n",
    "\n",
    "    # Your solution here\n",
    "    sum_cost = float(food_bill)+float(electricity_bill)+float(internet_bill)+float(rent)\n",
    "    if float(budget) >= sum_cost:\n",
    "        return True\n",
    "    else:\n",
    "        print('You have gone over budget!')\n",
    "        return False"
   ]
  },
  {
   "cell_type": "code",
   "execution_count": 44,
   "id": "79d1e01a-4d9f-4dfb-b014-b33f97a1c0b2",
   "metadata": {},
   "outputs": [
    {
     "name": "stdout",
     "output_type": "stream",
     "text": [
      "You have gone over budget!\n"
     ]
    },
    {
     "data": {
      "text/plain": [
       "False"
      ]
     },
     "execution_count": 44,
     "metadata": {},
     "output_type": "execute_result"
    }
   ],
   "source": [
    "over_budget(200, 90, 20, 100, 10)"
   ]
  },
  {
   "cell_type": "code",
   "execution_count": 12,
   "id": "fff2e7b8-2eb8-4b4c-85cf-72ee2f8b2a1c",
   "metadata": {},
   "outputs": [
    {
     "name": "stdout",
     "output_type": "stream",
     "text": [
      "hi!\n",
      "huh?\n",
      "ok\n"
     ]
    }
   ],
   "source": [
    "try:\n",
    "    print(\"hi!\")\n",
    "    num = 'three' \n",
    "    if num%3 != 0 :\n",
    "        print(\"nope\")\n",
    "    else:\n",
    "        print(\"yep\")\n",
    "except:\n",
    "    print(\"huh?\")\n",
    "finally:\n",
    "    print(\"ok\")"
   ]
  },
  {
   "cell_type": "code",
   "execution_count": 13,
   "id": "ddf0dfac-5512-43e9-ad6b-529211fe1a60",
   "metadata": {},
   "outputs": [
    {
     "name": "stdout",
     "output_type": "stream",
     "text": [
      "0\n",
      "b\n",
      "d\n"
     ]
    }
   ],
   "source": [
    "try:\n",
    "    num1 = 8\n",
    "    num2 = 0 \n",
    "    print(num1*num2) \n",
    "    print(num1/num2)\n",
    "    print(\"a\")\n",
    "except:\n",
    "    print(\"b\")\n",
    "else:\n",
    "    print(\"c\")\n",
    "finally:\n",
    "    print(\"d\")"
   ]
  },
  {
   "cell_type": "code",
   "execution_count": 66,
   "id": "e800b993-6342-48c0-abec-f7aaef04dee9",
   "metadata": {},
   "outputs": [],
   "source": [
    "def sum_values(my_dictionary):\n",
    "    current_sum=0\n",
    "    for key in my_dictionary:\n",
    "        current_sum=current_sum+float(my_dictionary[key])\n",
    "    return current_sum"
   ]
  },
  {
   "cell_type": "code",
   "execution_count": 68,
   "id": "7d2ca37f-4a06-45da-82da-efe1ffa4a9d5",
   "metadata": {},
   "outputs": [
    {
     "data": {
      "text/plain": [
       "166.0"
      ]
     },
     "execution_count": 68,
     "metadata": {},
     "output_type": "execute_result"
    }
   ],
   "source": [
    "sum_values({'five': 6, 'seven': 30, 'two': 100, 'three': 30})"
   ]
  },
  {
   "cell_type": "code",
   "execution_count": 19,
   "id": "db2c8138-8967-428a-8621-7f0742249eb3",
   "metadata": {},
   "outputs": [
    {
     "name": "stdout",
     "output_type": "stream",
     "text": [
      "6\n",
      "3\n"
     ]
    }
   ],
   "source": [
    "my_dict={'five': 6, 'seven': 3}\n",
    "for key in my_dict:\n",
    "    print(my_dict[key])"
   ]
  },
  {
   "cell_type": "markdown",
   "id": "d1a64d75-4849-43cc-85ff-0478bcb7033f",
   "metadata": {},
   "source": [
    "Write a function named max_key that takes a dictionary named my_dictionary as a parameter. The function should return the key associated with the largest value in the dictionary. Hint: Begin by creating two variables named largest_key and largest_value. Initialize largest_value to be the smallest number possible (you can use float(\"-inf\"). Initialize largest_key to be an empty string. Loop through all keys/value pair in the dictionary. Any time you find a value larger than what is currently stored in largest_value, replace largest_value with that new value. Similarly, replace largest_key with the key associated with the new largest value."
   ]
  },
  {
   "cell_type": "code",
   "execution_count": 14,
   "id": "bba8a293-2c57-4061-b566-4c460e60192c",
   "metadata": {},
   "outputs": [],
   "source": [
    "#return the key associated with the largest value in the dictionary\n",
    "def max_key(my_dictionary): \n",
    "    largest_key=''\n",
    "    largest_value=float(\"-inf\")\n",
    "    for key in my_dictionary:\n",
    "        if float(my_dictionary[key])>largest_value:\n",
    "            largest_key=key\n",
    "            largest_value=float(my_dictionary[key])\n",
    "    return largest_key"
   ]
  },
  {
   "cell_type": "code",
   "execution_count": 15,
   "id": "952b2251-3a18-482c-a438-50b1f47e651f",
   "metadata": {},
   "outputs": [
    {
     "data": {
      "text/plain": [
       "'max'"
      ]
     },
     "execution_count": 15,
     "metadata": {},
     "output_type": "execute_result"
    }
   ],
   "source": [
    "my_dict={'min': -100, 'max': 30, 'mid':0, 'not this':9, 'also not this':10}\n",
    "\n",
    "max_key(my_dict)"
   ]
  },
  {
   "cell_type": "markdown",
   "id": "1d37bf30-1fd2-4589-b678-4d58bddd333d",
   "metadata": {},
   "source": [
    "Create a function named remove_middle which has three parameters named lst, start, and end. The function should return a list where all elements in lst with an index between start and end (inclusive) have been removed. For example, the following code should return [4, 23, 42] because elements at indices 1, 2, and 3 have been removed:"
   ]
  },
  {
   "cell_type": "code",
   "execution_count": 61,
   "id": "d5ab1468-c1c7-4c5c-86a8-62eb9f8c5e7d",
   "metadata": {},
   "outputs": [],
   "source": [
    "#function should return a list where all elements in lst with an index between start and end (inclusive) have been removed\n",
    "\n",
    "def remove_middle(lst, start, end):\n",
    "    middle_idx=range(start,end+1)\n",
    "    final_lst=[]\n",
    "    for item in lst:\n",
    "        if lst.index(item) not in middle_idx:\n",
    "            final_lst.append(item)\n",
    "    return final_lst\n",
    "        "
   ]
  },
  {
   "cell_type": "code",
   "execution_count": 62,
   "id": "4c6ba6a6-3100-4316-9c6b-15ca6c87e0b3",
   "metadata": {},
   "outputs": [
    {
     "data": {
      "text/plain": [
       "[16, 23, 42, 30, 40, 90]"
      ]
     },
     "execution_count": 62,
     "metadata": {},
     "output_type": "execute_result"
    }
   ],
   "source": [
    "remove_middle([4, 8 , 15, 16, 23, 42,30,40,90], 0, 2)"
   ]
  },
  {
   "cell_type": "code",
   "execution_count": 42,
   "id": "3af7efaa-ed09-4057-8f1f-59badd075a20",
   "metadata": {},
   "outputs": [
    {
     "data": {
      "text/html": [
       "<div>\n",
       "<style scoped>\n",
       "    .dataframe tbody tr th:only-of-type {\n",
       "        vertical-align: middle;\n",
       "    }\n",
       "\n",
       "    .dataframe tbody tr th {\n",
       "        vertical-align: top;\n",
       "    }\n",
       "\n",
       "    .dataframe thead th {\n",
       "        text-align: right;\n",
       "    }\n",
       "</style>\n",
       "<table border=\"1\" class=\"dataframe\">\n",
       "  <thead>\n",
       "    <tr style=\"text-align: right;\">\n",
       "      <th></th>\n",
       "      <th>Fruits</th>\n",
       "      <th>Mass (g)</th>\n",
       "    </tr>\n",
       "  </thead>\n",
       "  <tbody>\n",
       "    <tr>\n",
       "      <th>0</th>\n",
       "      <td>apple</td>\n",
       "      <td>50</td>\n",
       "    </tr>\n",
       "    <tr>\n",
       "      <th>1</th>\n",
       "      <td>banana</td>\n",
       "      <td>30</td>\n",
       "    </tr>\n",
       "    <tr>\n",
       "      <th>2</th>\n",
       "      <td>grapefruit</td>\n",
       "      <td>45</td>\n",
       "    </tr>\n",
       "  </tbody>\n",
       "</table>\n",
       "</div>"
      ],
      "text/plain": [
       "       Fruits  Mass (g)\n",
       "0       apple        50\n",
       "1      banana        30\n",
       "2  grapefruit        45"
      ]
     },
     "execution_count": 42,
     "metadata": {},
     "output_type": "execute_result"
    }
   ],
   "source": [
    "temp = {'Fruits': ['apple','banana','grapefruit'], 'Mass (g)': [50,30,45]}\n",
    "pf.pd.DataFrame.from_dict(temp)"
   ]
  },
  {
   "cell_type": "code",
   "execution_count": 69,
   "id": "10cf449a-ac13-4eca-b4e3-d93b54ed1a04",
   "metadata": {},
   "outputs": [
    {
     "name": "stdout",
     "output_type": "stream",
     "text": [
      "0\n",
      "1\n",
      "4\n"
     ]
    }
   ],
   "source": [
    "mygenerator = (x*x for x in range(3))\n",
    "for i in mygenerator:\n",
    "    print(i)"
   ]
  },
  {
   "cell_type": "code",
   "execution_count": 70,
   "id": "7795c11b-72ec-4d04-9dd0-88130e80b8ac",
   "metadata": {},
   "outputs": [],
   "source": [
    "for i in mygenerator:\n",
    "    print(i)\n",
    "    "
   ]
  },
  {
   "cell_type": "code",
   "execution_count": 3,
   "id": "c04c508a-1618-41e7-9c04-be091c93fd43",
   "metadata": {},
   "outputs": [
    {
     "data": {
      "text/plain": [
       "0"
      ]
     },
     "execution_count": 3,
     "metadata": {},
     "output_type": "execute_result"
    }
   ],
   "source": [
    "counter = 0\n",
    "\n",
    "def update(): \n",
    "    new_counter = counter + 1 \n",
    "    return new_counter\n",
    "\n",
    "counter"
   ]
  },
  {
   "cell_type": "code",
   "execution_count": 23,
   "id": "886f79a8-3a53-4176-b037-9b4b21b944a4",
   "metadata": {},
   "outputs": [
    {
     "data": {
      "text/plain": [
       "False"
      ]
     },
     "execution_count": 23,
     "metadata": {},
     "output_type": "execute_result"
    }
   ],
   "source": [
    "def always_false(num):\n",
    "\n",
    "    # Your solution here\n",
    "    if float(num) <= float('inf') or float(num) >= -float('inf'):\n",
    "        return False\n",
    "    \n",
    "always_false(float('inf'))"
   ]
  },
  {
   "cell_type": "code",
   "execution_count": 10,
   "id": "37bd9ca7-426b-43e1-869c-073c90afb2fd",
   "metadata": {},
   "outputs": [
    {
     "name": "stdout",
     "output_type": "stream",
     "text": [
      "hi!\n",
      "huh?\n",
      "ok\n"
     ]
    }
   ],
   "source": [
    "try:\n",
    "    print(\"hi!\")\n",
    "    num = 'three' \n",
    "    if num%3 != 0 :\n",
    "        print(\"nope\")\n",
    "    else:\n",
    "        print(\"yep\")\n",
    "except:\n",
    "    print(\"huh?\")\n",
    "finally:\n",
    "    print(\"ok\")"
   ]
  },
  {
   "cell_type": "code",
   "execution_count": 11,
   "id": "3bdeda81-2224-40f8-83b6-84114601733a",
   "metadata": {},
   "outputs": [
    {
     "name": "stdout",
     "output_type": "stream",
     "text": [
      "0\n",
      "b\n",
      "d\n"
     ]
    }
   ],
   "source": [
    "try:\n",
    "    num1 = 8\n",
    "    num2 = 0 \n",
    "    print(num1*num2) \n",
    "    print(num1/num2)\n",
    "    print(\"a\")\n",
    "except:\n",
    "    print(\"b\")\n",
    "else:\n",
    "    print(\"c\")\n",
    "finally:\n",
    "    print(\"d\")"
   ]
  },
  {
   "cell_type": "code",
   "execution_count": 24,
   "id": "5db57eb7-9348-4ba4-a55d-fca41ea5e64a",
   "metadata": {},
   "outputs": [
    {
     "data": {
      "text/plain": [
       "10.0"
      ]
     },
     "execution_count": 24,
     "metadata": {},
     "output_type": "execute_result"
    }
   ],
   "source": [
    "#Write a function named sum_values that takes a dictionary named my_dictionary as a parameter. The function should return the sum of the values of the dictionary\n",
    "\n",
    "def sum_values(my_dictionary):\n",
    "    curr_sum=0\n",
    "    for key in my_dictionary:\n",
    "        curr_sum=float(my_dictionary[key])+curr_sum\n",
    "        \n",
    "    return curr_sum\n",
    "  \n",
    "    \n",
    "sum_values({'one':1, 'two':2,'three':3, 'four':4})"
   ]
  },
  {
   "cell_type": "markdown",
   "id": "7ee0abb1-3b00-41a6-8166-8f6b67370bbe",
   "metadata": {},
   "source": [
    "Write a function named max_key that takes a dictionary named my_dictionary as a parameter. The function should return the key associated with the largest value in the dictionary. Hint: Begin by creating two variables named largest_key and largest_value. Initialize largest_value to be the smallest number possible (you can use float(\"-inf\"). Initialize largest_key to be an empty string. Loop through all keys/value pair in the dictionary. Any time you find a value larger than what is currently stored in largest_value, replace largest_value with that new value. Similarly, replace largest_key with the key associated with the new largest value."
   ]
  },
  {
   "cell_type": "markdown",
   "id": "a7f148ea-fc11-4153-92b7-f5ac15c918f8",
   "metadata": {},
   "source": [
    "Create a function named more_frequent_item that has three parameters named lst, item1, and item2. Return either item1 or item2 depending on which item appears more often in lst. If the two items appear the same number of times, return item1."
   ]
  },
  {
   "cell_type": "code",
   "execution_count": 21,
   "id": "3caa6ba8-d33d-412d-b0c0-94af3c5e52cb",
   "metadata": {},
   "outputs": [
    {
     "data": {
      "text/plain": [
       "2"
      ]
     },
     "execution_count": 21,
     "metadata": {},
     "output_type": "execute_result"
    }
   ],
   "source": [
    "def more_frequent_item(lst,item1,item2):\n",
    "    count_1=lst.count(item1)\n",
    "    count_2=lst.count(item2)\n",
    "    if count_1 >= count_2:\n",
    "        return item1\n",
    "    else:\n",
    "        return item2\n",
    "    \n",
    "    \n",
    "more_frequent_item([2,2,1,],1,2)"
   ]
  },
  {
   "cell_type": "code",
   "execution_count": null,
   "id": "aab15924-2f04-4320-b4ff-6d5328d96a68",
   "metadata": {},
   "outputs": [],
   "source": []
  }
 ],
 "metadata": {
  "kernelspec": {
   "display_name": "Python 3 (ipykernel)",
   "language": "python",
   "name": "python3"
  },
  "language_info": {
   "codemirror_mode": {
    "name": "ipython",
    "version": 3
   },
   "file_extension": ".py",
   "mimetype": "text/x-python",
   "name": "python",
   "nbconvert_exporter": "python",
   "pygments_lexer": "ipython3",
   "version": "3.8.5"
  }
 },
 "nbformat": 4,
 "nbformat_minor": 5
}
