{
 "cells": [
  {
   "cell_type": "markdown",
   "id": "5a5b3063-7aba-4d60-a627-b522c653b748",
   "metadata": {},
   "source": [
    "# Data Analysis and Visualizations\n"
   ]
  },
  {
   "cell_type": "markdown",
   "id": "678896dd-fb44-43a2-b61b-603678540c13",
   "metadata": {},
   "source": [
    "## Comparision of Happiness with Four Health Indicators "
   ]
  },
  {
   "cell_type": "markdown",
   "id": "e18012fd-7fbb-4bb1-a953-ccef3131388b",
   "metadata": {},
   "source": [
    "![Alcohol vs H index](Bellinda/Hindex_alco.png)\n",
    "\n",
    "1. The relationship between happiness and alcohol consuption does not appear to be linear or strongly corrolated. It appears that countries with the highest amounts of alchol consumption have above average happiness. The most concentrated cluster appears to be around medium happiness where these countries have very low levels of alcohol consumption. It appears that on average, the countries with higher happiness indexes also have higher alcohol consumption.\n",
    "\n",
    "![Road Accidents vs H index](Bellinda/Hindex_road.png)\n",
    "\n",
    "2. This distribution is relatively flat and concentrated around low traffic accident rates and middle happiness. The correlation between the variables is again non-linear. As shown, the countries with the highest rates of road accident deaths are actually middle happiness (compared to overall mean of 5.4). However, the countries with the highest happiness have very low rates of traffic accidents.\n",
    "\n",
    "![Homicide Rates vs H index](Bellinda/Hindex_homi.png)\n",
    "\n",
    "3. This distribution is also relatively flat but contains the highest variation of homicide rates for the top 75 percentile happiness countries. The happinest countries appear to have low rates of homicide but a similar observation can be made about the least happy countries. On average, the countries with average happiness have low rates of homicide. \n",
    "\n",
    "![Suicide Rates vs H index](Bellinda/Hindex_suic.png)\n",
    "\n",
    "4. This distribution is has a bit of a fan effect. Although the distribution is not clearly linear or any pattern, it is interesting to note that happier countries have a pretty wide range of suicide rates. For those countries with a happiness score above the mean (5.4), the achieved the highest rates of suicide overall. Furthermore, the range of rates per country is higher for the top 90 percentile than the bottom 10 percentile."
   ]
  },
  {
   "cell_type": "code",
   "execution_count": null,
   "id": "69924fd8-4795-45c6-a58e-bcc7551ae559",
   "metadata": {},
   "outputs": [],
   "source": []
  }
 ],
 "metadata": {
  "kernelspec": {
   "display_name": "Python 3 (ipykernel)",
   "language": "python",
   "name": "python3"
  },
  "language_info": {
   "codemirror_mode": {
    "name": "ipython",
    "version": 3
   },
   "file_extension": ".py",
   "mimetype": "text/x-python",
   "name": "python",
   "nbconvert_exporter": "python",
   "pygments_lexer": "ipython3",
   "version": "3.8.5"
  }
 },
 "nbformat": 4,
 "nbformat_minor": 5
}
