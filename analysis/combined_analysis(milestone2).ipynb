{
 "cells": [
  {
   "cell_type": "markdown",
   "id": "60a8ce3e",
   "metadata": {},
   "source": [
    "# Data Analysis and Visualizations\n"
   ]
  },
  {
   "cell_type": "markdown",
   "id": "58ec130d",
   "metadata": {},
   "source": [
    "## Comparision of Happiness with Four Health Indicators "
   ]
  },
  {
   "cell_type": "markdown",
   "id": "31d989de",
   "metadata": {},
   "source": [
    "#### link"
   ]
  },
  {
   "cell_type": "code",
   "execution_count": null,
   "id": "98a5f2a9",
   "metadata": {},
   "outputs": [],
   "source": [
    "![Frequency of Ranking as Top 10 by Country](Bellinda/Hindex_alco.png)\n",
    "\n",
    "1. The relationship between happiness and alcohol consuption does not appear to be linear or strongly corrolated. It appears that countries with the highest amounts of alchol consumption have above average happiness. The most concentrated cluster appears to be around medium happiness where these countries have very low levels of alcohol consumption. It appears that on average, the countries with higher happiness indexes also have higher alcohol consumption. [link to notebook with graph generation](https://github.com/data301-2021-summer2/project-group16-data-301-project/blob/main/analysis/Bellinda/clean_analysis.ipynb)\n",
    "\n",
    "![Road Accidents vs H index](Bellinda/Hindex_road.png)\n",
    "\n",
    "2. This distribution is relatively flat and concentrated around low traffic accident rates and middle happiness. The correlation between the variables is again non-linear. As shown, the countries with the highest rates of road accident deaths are actually middle happiness (compared to overall mean of 5.4). However, the countries with the highest happiness have very low rates of traffic accidents. [link to notebook with graph generation](https://github.com/data301-2021-summer2/project-group16-data-301-project/blob/main/analysis/Bellinda/clean_analysis.ipynb)\n",
    "\n",
    "![Homicide Rates vs H index](Bellinda/Hindex_homi.png)\n",
    "\n",
    "3. This distribution is also relatively flat but contains the highest variation of homicide rates for the top 75 percentile happiness countries. The happinest countries appear to have low rates of homicide but a similar observation can be made about the least happy countries. On average, the countries with average happiness have low rates of homicide. [link to notebook with graph generation](https://github.com/data301-2021-summer2/project-group16-data-301-project/blob/main/analysis/Bellinda/clean_analysis.ipynb)\n",
    "\n",
    "![Suicide Rates vs H index](Bellinda/Hindex_suic.png)\n",
    "\n",
    "4. This distribution is has a bit of a fan effect. Although the distribution is not clearly linear or any pattern, it is interesting to note that happier countries have a pretty wide range of suicide rates. For those countries with a happiness score above the mean (5.4), the achieved the highest rates of suicide overall. Furthermore, the range of rates per country is higher for the top 90 percentile than the bottom 10 percentile. [link to notebook with graph generation](https://github.com/data301-2021-summer2/project-group16-data-301-project/blob/main/analysis/Bellinda/clean_analysis.ipynb)"
   ]
  },
  {
   "cell_type": "markdown",
   "id": "cda651a7",
   "metadata": {},
   "source": [
    "[link to notebook with graph generation](https://github.com/data301-2021-summer2/project-group16-data-301-project/blob/main/analysis/Sue/Analysis_EDA.ipynb)\n",
    "\n",
    "![Frequency of Ranking](Sue/Frequency_of_Ranking.png)\n",
    "\n",
    "1. This plot indicates how many times each country ranked as top 10\n",
    "\n",
    "![Top 10 Happiness Country](Sue/Tope_10_World_Happiness_Country_Pairplot.png)\n",
    "\n",
    "2. Correlation Matrix Heatmap -- All Country\n",
    "\n",
    "![Correlation All Country](Sue/Correlation_Matrix_All_Country.png)\n",
    "\n",
    "3. Correlation Matrix Heatmap -- Top 10 Country\n",
    "![Correlation Top 10 Country](Sue/Correlation_Matrix_Top_10_Country.png)\n",
    "\n",
    "4. PairPlot for Top 10 Country\n",
    "\n",
    "![PairPlot Top 10](Sue/PairPlot_Top_10_Country.png)\n",
    "\n",
    "5. Regional Distribution for Top 10 Country\n",
    "\n",
    "![PairPlot Top 10](Sue/Top_10_Region_Distribution.png)"
   ]
  },
  {
   "cell_type": "markdown",
   "id": "043c06eb",
   "metadata": {},
   "source": [
    "#### Summarize the findings and describe any conclusions and insights that draw from the visualizations.\n",
    "\n",
    "\n",
    "- Summary of findings, insight, and conclusions\n",
    "1. Austria has been out of Top 10 four times however in year 2019 it backed to the Top 10 list\n",
    "2. Finland has been ranked as Top 1 twice and it's ranking of happiness significantly increased since year 2017.This is not driven by the GDP per Capita. It's high happiness score is mainly driven by the freedom of make life choice, relatively low living costs and high social support from the government.\n",
    "3. Denmark always in the Top 3 among all the counties mainly driven by the combination of it's optimal mix of relative high GDP per capita, social support, freedom of make life choice, relatively low living costs\n",
    "\n",
    "- Summary of findings, insight, and conclusions\n",
    "1. When bring in all the countries as a whole picture, among the 4 factors (Economy, Freedom, Trust, Generosity) the Economy has the highest positive correlation among the others\n",
    "2. However, when it comes to the top 10 most happiest countries in the world Economy is no longer an important factor to influence people's happiness. Instead freedom of make life choice becomes the No.1 key important factor.\n",
    "Research Question 2: What are the most important factor impact people happiness score.\n",
    "    \n",
    "- Summary of findings, insight, and conclusions\n",
    "1. Most of the Top 10 happiest countries residence in Western Europe region\n",
    "2. Switzerland has an extraordinarily high living cost among the countries in our top 10 list\n",
    "3. Money is correlation to happiness but only to certain extent. It plays less important role when we have enough money and then what really bring happiness is something not money related such as freedom, health etc.\n"
   ]
  },
  {
   "cell_type": "code",
   "execution_count": null,
   "id": "f3098a2b",
   "metadata": {},
   "outputs": [],
   "source": []
  }
 ],
 "metadata": {
  "kernelspec": {
   "display_name": "Python 3 (ipykernel)",
   "language": "python",
   "name": "python3"
  },
  "language_info": {
   "codemirror_mode": {
    "name": "ipython",
    "version": 3
   },
   "file_extension": ".py",
   "mimetype": "text/x-python",
   "name": "python",
   "nbconvert_exporter": "python",
   "pygments_lexer": "ipython3",
   "version": "3.9.1"
  }
 },
 "nbformat": 4,
 "nbformat_minor": 5
}
